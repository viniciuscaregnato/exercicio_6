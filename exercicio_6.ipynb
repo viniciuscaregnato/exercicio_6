{
 "cells": [
  {
   "cell_type": "code",
   "execution_count": null,
   "id": "e2abdf94-8768-4c21-9ab8-994d6af3dd48",
   "metadata": {},
   "outputs": [],
   "source": [
    "\"\"\"determine o enesimo termo e a soma dos termos de uma progress˜ao aritm´etica onde n,\n",
    "primeiro termo e a raz˜ao s˜ao dados pelo usu´ario\n",
    "\n",
    "autor: vinicius\n",
    "versao: 0.0.1\"\"\""
   ]
  },
  {
   "cell_type": "code",
   "execution_count": 21,
   "id": "373b0da6-d01b-47b8-bcf3-bb4e5d0e187f",
   "metadata": {},
   "outputs": [],
   "source": [
    "# Alocação de memoria\n",
    "\n",
    "a1 = \"\"\n",
    "razao = \"\"\n",
    "n_termos = \"\""
   ]
  },
  {
   "cell_type": "code",
   "execution_count": 15,
   "id": "10d2600b-c4d1-4561-9fc4-fe3a53db06ed",
   "metadata": {},
   "outputs": [
    {
     "name": "stdin",
     "output_type": "stream",
     "text": [
      "digite um numero:  2\n",
      "digite uma razao:  3\n",
      "digite o numero de termos:  4\n"
     ]
    }
   ],
   "source": [
    "# Entrada de dados\n",
    "\n",
    "a1 = int(input(\"digite um numero: \"))\n",
    "razao = int(input(\"digite uma razao: \"))\n",
    "n_termos = int(input(\"digite o numero de termos: \"))"
   ]
  },
  {
   "cell_type": "code",
   "execution_count": 17,
   "id": "a20148f6-5ba2-4bcf-a2d5-68916db5c7e8",
   "metadata": {},
   "outputs": [],
   "source": [
    "# Processamento de dados\n",
    "\n",
    "an = a1 + (n_termos - 1) * razao\n",
    "soma = (n_termos * (a1 + an)) // 2 \n"
   ]
  },
  {
   "cell_type": "code",
   "execution_count": 19,
   "id": "212f010c-0261-417d-8509-7b85c5dc12ee",
   "metadata": {},
   "outputs": [
    {
     "name": "stdout",
     "output_type": "stream",
     "text": [
      "11\n",
      "26\n"
     ]
    }
   ],
   "source": [
    "#Saída de dados\n",
    "\n",
    "print(an)\n",
    "print(soma)"
   ]
  }
 ],
 "metadata": {
  "kernelspec": {
   "display_name": "Python [conda env:base] *",
   "language": "python",
   "name": "conda-base-py"
  },
  "language_info": {
   "codemirror_mode": {
    "name": "ipython",
    "version": 3
   },
   "file_extension": ".py",
   "mimetype": "text/x-python",
   "name": "python",
   "nbconvert_exporter": "python",
   "pygments_lexer": "ipython3",
   "version": "3.12.7"
  }
 },
 "nbformat": 4,
 "nbformat_minor": 5
}
